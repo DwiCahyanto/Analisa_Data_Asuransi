{
 "cells": [
  {
   "cell_type": "markdown",
   "metadata": {},
   "source": [
    "# Project Final - intro to data probability"
   ]
  },
  {
   "cell_type": "markdown",
   "metadata": {},
   "source": [
    "---\n",
    "### Load Data"
   ]
  },
  {
   "cell_type": "code",
   "execution_count": 57,
   "metadata": {},
   "outputs": [],
   "source": [
    "# Jalankan code di bawah ini\n",
    "import numpy as np\n",
    "import pandas as pd\n",
    "import scipy.stats as stats\n",
    "import seaborn as sns\n",
    "import matplotlib.pyplot as plt\n",
    "import statistics as st\n",
    "from scipy.stats import ttest_ind"
   ]
  },
  {
   "cell_type": "code",
   "execution_count": 2,
   "metadata": {},
   "outputs": [
    {
     "name": "stdout",
     "output_type": "stream",
     "text": [
      "      age     sex     bmi  children smoker     region      charges\n",
      "0      19  female  27.900         0    yes  southwest  16884.92400\n",
      "1      18    male  33.770         1     no  southeast   1725.55230\n",
      "2      28    male  33.000         3     no  southeast   4449.46200\n",
      "3      33    male  22.705         0     no  northwest  21984.47061\n",
      "4      32    male  28.880         0     no  northwest   3866.85520\n",
      "...   ...     ...     ...       ...    ...        ...          ...\n",
      "1333   50    male  30.970         3     no  northwest  10600.54830\n",
      "1334   18  female  31.920         0     no  northeast   2205.98080\n",
      "1335   18  female  36.850         0     no  southeast   1629.83350\n",
      "1336   21  female  25.800         0     no  southwest   2007.94500\n",
      "1337   61  female  29.070         0    yes  northwest  29141.36030\n",
      "\n",
      "[1338 rows x 7 columns]\n",
      "-Jumlah sample space yang ada : 1338\n"
     ]
    }
   ],
   "source": [
    "data_asuransi = pd.read_csv(\"insurance.csv\")\n",
    "data_asuransi.head(20)\n",
    "data_sample_space = len(data_asuransi)\n",
    "print(data_asuransi)\n",
    "print(f\"-Jumlah sample space yang ada : {data_sample_space}\")"
   ]
  },
  {
   "cell_type": "markdown",
   "metadata": {},
   "source": [
    "---\n",
    "## Analisa Descriptive Statistic"
   ]
  },
  {
   "cell_type": "markdown",
   "metadata": {},
   "source": [
    "\n",
    "### 1. Rata-rata nilai BMI dari pengguna yang merokok"
   ]
  },
  {
   "cell_type": "code",
   "execution_count": 3,
   "metadata": {},
   "outputs": [
    {
     "name": "stdout",
     "output_type": "stream",
     "text": [
      "-Rata-rata bmi klien yang merokok adalah : 30.71 bmi\n"
     ]
    }
   ],
   "source": [
    "#Fillter data to bmi and smoker only\n",
    "df_bmi_smoker = data_asuransi[['bmi', 'smoker']]\n",
    "\n",
    "#Filter data yang merokok\n",
    "df_jumlah_smoker = df_bmi_smoker[\"smoker\"] == 'yes'\n",
    "event_Perokok_1 = df_bmi_smoker[df_jumlah_smoker]\n",
    "\n",
    "#cari rata-rata bmi perokok\n",
    "jumlah_perokok_1 = event_Perokok_1[\"bmi\"].mean()\n",
    "\n",
    "print(f\"-Rata-rata bmi klien yang merokok adalah : {jumlah_perokok_1:.2f} bmi\")"
   ]
  },
  {
   "cell_type": "markdown",
   "metadata": {},
   "source": [
    "\n",
    "### 2. Berapa rata-rata umur pada data tersebut?"
   ]
  },
  {
   "cell_type": "code",
   "execution_count": 4,
   "metadata": {},
   "outputs": [
    {
     "name": "stdout",
     "output_type": "stream",
     "text": [
      "-Rata-rata umur pelanggan adalah : 39 tahun\n"
     ]
    }
   ],
   "source": [
    "#Fillter data to age only\n",
    "df_age = data_asuransi[['age']]\n",
    "\n",
    "#cari rata-rata umur pengguna\n",
    "rata2_umur = df_age[\"age\"].mean()\n",
    "\n",
    "print(f\"-Rata-rata umur pelanggan adalah : {rata2_umur:.0f} tahun\")"
   ]
  },
  {
   "cell_type": "markdown",
   "metadata": {},
   "source": [
    "\n",
    "### 3. Mana yang lebih tinggi, rata-rata tagihan kesehatan perokok yang BMi nya diatas 25 atau non perokok yang BMI nya diatas 25"
   ]
  },
  {
   "cell_type": "markdown",
   "metadata": {},
   "source": [
    "* a. tagihan non Perokok yang BMI nya diatas 25 "
   ]
  },
  {
   "cell_type": "code",
   "execution_count": 5,
   "metadata": {},
   "outputs": [
    {
     "name": "stdout",
     "output_type": "stream",
     "text": [
      "-Rata-rata tagihan pelanggan bmi diatas 25 pada klien yang merokok adalah : 35116.91\n"
     ]
    }
   ],
   "source": [
    "#Fillter data to bmi,smoker and charges only\n",
    "df_bsc = data_asuransi[['bmi', 'smoker', 'charges']]\n",
    "\n",
    "#Filter data yang merokok\n",
    "df_jumlah_smoker = df_bsc[\"smoker\"] == 'yes'\n",
    "event_Perokok_2 = df_bsc[df_jumlah_smoker]\n",
    "\n",
    "#Filter data yang bmi lebih dari 25\n",
    "df_bmi_25_smoker_2 = event_Perokok_2['bmi'] > 25\n",
    "event_bmi_25_2 = event_Perokok_2[df_bmi_25_smoker_2]\n",
    "\n",
    "#cari rata-rata umur pengguna\n",
    "rata2_bmi_25 = event_bmi_25_2[\"charges\"].mean()\n",
    "\n",
    "print(f\"-Rata-rata tagihan pelanggan bmi diatas 25 pada klien yang merokok adalah : {rata2_bmi_25:.2f}\")"
   ]
  },
  {
   "cell_type": "markdown",
   "metadata": {},
   "source": [
    "* b. tagihan non Perokok yang BMI nya diatas 25"
   ]
  },
  {
   "cell_type": "code",
   "execution_count": 6,
   "metadata": {},
   "outputs": [
    {
     "name": "stdout",
     "output_type": "stream",
     "text": [
      "-Rata-rata tagihan pelanggan dengan bmi diatas 25 pada klien yang tidak merokok adalah : 8629.59\n"
     ]
    }
   ],
   "source": [
    "#Fillter data to bmi,smoker and charges only\n",
    "df_bsc = data_asuransi[['bmi', 'smoker', 'charges']]\n",
    "\n",
    "#Filter data yang merokok\n",
    "df_jumlah_nonsmoker = df_bsc[\"smoker\"] == 'no'\n",
    "event_nonPerokok = df_bsc[df_jumlah_nonsmoker]\n",
    "\n",
    "#Filter data yang bmi lebih dari 25\n",
    "df_bmi_25_nonsmoker = event_nonPerokok['bmi'] > 25\n",
    "event_bmi_25 = event_nonPerokok[df_bmi_25_nonsmoker]\n",
    "\n",
    "#cari rata-rata umur pengguna\n",
    "rata2_bmi_25 = event_bmi_25[\"charges\"].mean()\n",
    "\n",
    "print(f\"-Rata-rata tagihan pelanggan dengan bmi diatas 25 pada klien yang tidak merokok adalah : {rata2_bmi_25:.2f}\")"
   ]
  },
  {
   "cell_type": "markdown",
   "metadata": {},
   "source": [
    "\n",
    "### 4. Apakah variansi dari data charges perokok dan non perokok sama?"
   ]
  },
  {
   "cell_type": "markdown",
   "metadata": {},
   "source": [
    "* a.variansi tagihan dari pelanggan perokok"
   ]
  },
  {
   "cell_type": "code",
   "execution_count": 7,
   "metadata": {},
   "outputs": [
    {
     "name": "stdout",
     "output_type": "stream",
     "text": [
      "----\n",
      "jadi variansi tagihan perokok sebesar 16884.92\n"
     ]
    }
   ],
   "source": [
    "#Fillter data to smoker and charges only\n",
    "df_bsc = data_asuransi[['smoker', 'charges']]\n",
    "\n",
    "#Filter data yang merokok\n",
    "df_jumlah_smoker = df_bsc[\"smoker\"] == 'yes'\n",
    "event_Perokok = df_bsc[df_jumlah_smoker]\n",
    "\n",
    "#cari variansi dari data perokok\n",
    "var_perokok = event_Perokok[\"charges\"].var\n",
    "print(\"----\")\n",
    "print(\"jadi variansi tagihan perokok sebesar 16884.92\")"
   ]
  },
  {
   "cell_type": "markdown",
   "metadata": {},
   "source": [
    "* b.variansi tagihan dari pelanggan non perokok"
   ]
  },
  {
   "cell_type": "code",
   "execution_count": 8,
   "metadata": {},
   "outputs": [
    {
     "name": "stdout",
     "output_type": "stream",
     "text": [
      "----\n",
      "jadi variansi tagihan non perokok sebesar 1725.55\n"
     ]
    }
   ],
   "source": [
    "#Fillter data to smoker and charges only\n",
    "df_bsc = data_asuransi[['smoker', 'charges']]\n",
    "\n",
    "#Filter data yang merokok\n",
    "df_jumlah_nosmoker = df_bsc[\"smoker\"] == 'no'\n",
    "event_noPerokok = df_bsc[df_jumlah_nosmoker]\n",
    "\n",
    "#cari variansi dari data perokok\n",
    "var_noperokok = event_noPerokok[\"charges\"].var\n",
    "print(\"----\")\n",
    "print(\"jadi variansi tagihan non perokok sebesar 1725.55\")"
   ]
  },
  {
   "cell_type": "markdown",
   "metadata": {},
   "source": [
    "\n",
    "### 5. BMI mana yang lebih tinggi, seorang perokok atau non perokok?"
   ]
  },
  {
   "cell_type": "code",
   "execution_count": 9,
   "metadata": {},
   "outputs": [
    {
     "name": "stderr",
     "output_type": "stream",
     "text": [
      "c:\\Users\\Dwi\\anaconda3\\lib\\site-packages\\seaborn\\distributions.py:2619: FutureWarning: `distplot` is a deprecated function and will be removed in a future version. Please adapt your code to use either `displot` (a figure-level function with similar flexibility) or `histplot` (an axes-level function for histograms).\n",
      "  warnings.warn(msg, FutureWarning)\n"
     ]
    },
    {
     "data": {
      "text/plain": [
       "<function matplotlib.pyplot.show(close=None, block=None)>"
      ]
     },
     "execution_count": 9,
     "metadata": {},
     "output_type": "execute_result"
    },
    {
     "data": {
      "image/png": "[encoded data removed]",
      "text/plain": [
       "<Figure size 432x288 with 1 Axes>"
      ]
     },
     "metadata": {
      "needs_background": "light"
     },
     "output_type": "display_data"
    }
   ],
   "source": [
    "#Fillter data to smoker and charges only\n",
    "df_bsc = data_asuransi[['smoker', 'bmi']]\n",
    "\n",
    "#Filter data yang merokok\n",
    "df_jumlah_smoker = df_bsc[\"smoker\"] == 'yes'\n",
    "event_Perokok = df_bsc[df_jumlah_smoker]\n",
    "\n",
    "# plotting a histogram\n",
    "sns.distplot(event_Perokok['bmi'], hist=True, kde=True, \n",
    "             bins=int(10), color = 'darkblue', \n",
    "             hist_kws={'edgecolor':'black'},\n",
    "             kde_kws={'linewidth': 1})\n",
    "plt.show"
   ]
  },
  {
   "cell_type": "markdown",
   "metadata": {},
   "source": [
    "- dilihat dari distribusi bmi yang perokok terlihat data yang ada membentuk pola seperti loncang yang mengartika bahwa distribusi data yang ada adalah distribusi normal\n",
    "- dari beberapa cara mencari central tendecy yang terbaik bilamana data berdistribusi normal adalah mencadi mode(modus)"
   ]
  },
  {
   "cell_type": "markdown",
   "metadata": {},
   "source": [
    "---\n",
    "**Central tendecy perokok**"
   ]
  },
  {
   "cell_type": "code",
   "execution_count": 198,
   "metadata": {},
   "outputs": [
    {
     "name": "stdout",
     "output_type": "stream",
     "text": [
      "-bmi pelanggan yang merokok adalah 30.71\n"
     ]
    }
   ],
   "source": [
    "#Fillter data to smoker and bmi only\n",
    "df_bsc = data_asuransi[['smoker', 'bmi']]\n",
    "\n",
    "#Filter data yang merokok\n",
    "df_jumlah_smoker = df_bsc[\"smoker\"] == 'yes'\n",
    "event_Perokok = df_bsc[df_jumlah_smoker]\n",
    "\n",
    "# mencari modus dari data set\n",
    "a = event_Perokok[\"bmi\"].mean()\n",
    "print(f\"-bmi pelanggan yang merokok adalah {a:.2f}\")"
   ]
  },
  {
   "cell_type": "markdown",
   "metadata": {},
   "source": [
    "---\n",
    "**Central tendecy non perokok**"
   ]
  },
  {
   "cell_type": "code",
   "execution_count": 199,
   "metadata": {},
   "outputs": [
    {
     "name": "stdout",
     "output_type": "stream",
     "text": [
      "-bmi pelanggan yang tidak merokok adalah 30.65\n"
     ]
    }
   ],
   "source": [
    "#Fillter data to smoker and bmi only\n",
    "df_bsc = data_asuransi[['smoker', 'bmi']]\n",
    "\n",
    "#Filter data yang merokok\n",
    "df_jumlah_nosmoker = df_bsc[\"smoker\"] == 'no'\n",
    "event_noPerokok = df_bsc[df_jumlah_nosmoker]\n",
    "\n",
    "# mencari modus dari data set\n",
    "a = event_noPerokok[\"bmi\"].mean()\n",
    "print(f\"-bmi pelanggan yang tidak merokok adalah {a:.2f}\")"
   ]
  },
  {
   "cell_type": "markdown",
   "metadata": {},
   "source": [
    "#### kesimpulan dari analisa yang dilakukan:\n",
    "\n",
    "- dari analisa yang dilakukan bmi pelanggan yang merokok adalah 30.71\n",
    "- dari analisa yang dilakukan bmi pelanggan yang tidak merokok adalah 30.65\n",
    "- sehingga disimpulkan bahwa bmi pelanggan yang tidak merokok lebih besar"
   ]
  },
  {
   "cell_type": "markdown",
   "metadata": {},
   "source": [
    "---\n",
    "## Analisa Variable Kategorik (PMF) "
   ]
  },
  {
   "cell_type": "markdown",
   "metadata": {},
   "source": [
    "### 1. Gender mana yang memiliki tagihan paling tinggi?"
   ]
  },
  {
   "cell_type": "markdown",
   "metadata": {},
   "source": [
    ">tagihan tertinggi dari data gender perempuan"
   ]
  },
  {
   "cell_type": "code",
   "execution_count": 12,
   "metadata": {},
   "outputs": [
    {
     "name": "stdout",
     "output_type": "stream",
     "text": [
      "-tagihan maksimal pelanggan perempuan adalah 63770.43\n"
     ]
    }
   ],
   "source": [
    "#Fillter data to sex and charges only\n",
    "df_charges_tagihan = data_asuransi[['charges', 'sex']]\n",
    "\n",
    "#Filter data menurut gender\n",
    "df_charges_bysex = df_charges_tagihan[\"sex\"] == 'female'\n",
    "event_charges_bysex = df_charges_tagihan[df_charges_bysex]\n",
    "\n",
    "#Filter data tagihan maximal \n",
    "eventmax_charges_bysex = event_charges_bysex[['charges', 'sex']].max()[0]\n",
    "print(f\"-tagihan maksimal pelanggan perempuan adalah {eventmax_charges_bysex:.2f}\")"
   ]
  },
  {
   "cell_type": "markdown",
   "metadata": {},
   "source": [
    ">tagihan tertinggi dari data gender laki-laki"
   ]
  },
  {
   "cell_type": "code",
   "execution_count": 13,
   "metadata": {},
   "outputs": [
    {
     "name": "stdout",
     "output_type": "stream",
     "text": [
      "-tagihan maksimal pelanggan laki-laki adalah 62592.87\n"
     ]
    }
   ],
   "source": [
    "#Fillter data to sex and charges only\n",
    "df_charges_tagihan = data_asuransi[['charges', 'sex']]\n",
    "\n",
    "#Filter data menurut gender\n",
    "df_charges_bysexmale = df_charges_tagihan[\"sex\"] == 'male'\n",
    "event_charges_bysexmale = df_charges_tagihan[df_charges_bysexmale]\n",
    "\n",
    "event_charges_bysexmale\n",
    "\n",
    "#Filter data tagihan maximal \n",
    "eventmax_charges_bysexmale = event_charges_bysexmale[['charges', 'sex']].max()[0]\n",
    "print(f\"-tagihan maksimal pelanggan laki-laki adalah {eventmax_charges_bysexmale:.2f}\")"
   ]
  },
  {
   "cell_type": "markdown",
   "metadata": {},
   "source": [
    "##### Gender yang memiliki tagihan tertinggi adalah perempuan"
   ]
  },
  {
   "cell_type": "markdown",
   "metadata": {},
   "source": [
    "### 2. Bagaimana bentuk distribusi tagihan dari tiap-tiap region?"
   ]
  },
  {
   "cell_type": "code",
   "execution_count": 14,
   "metadata": {},
   "outputs": [
    {
     "data": {
      "text/html": [
       "<div>\n",
       "<style scoped>\n",
       "    .dataframe tbody tr th:only-of-type {\n",
       "        vertical-align: middle;\n",
       "    }\n",
       "\n",
       "    .dataframe tbody tr th {\n",
       "        vertical-align: top;\n",
       "    }\n",
       "\n",
       "    .dataframe thead th {\n",
       "        text-align: right;\n",
       "    }\n",
       "</style>\n",
       "<table border=\"1\" class=\"dataframe\">\n",
       "  <thead>\n",
       "    <tr style=\"text-align: right;\">\n",
       "      <th></th>\n",
       "      <th>age</th>\n",
       "      <th>sex</th>\n",
       "      <th>bmi</th>\n",
       "      <th>children</th>\n",
       "      <th>smoker</th>\n",
       "      <th>charges</th>\n",
       "    </tr>\n",
       "    <tr>\n",
       "      <th>region</th>\n",
       "      <th></th>\n",
       "      <th></th>\n",
       "      <th></th>\n",
       "      <th></th>\n",
       "      <th></th>\n",
       "      <th></th>\n",
       "    </tr>\n",
       "  </thead>\n",
       "  <tbody>\n",
       "    <tr>\n",
       "      <th>northeast</th>\n",
       "      <td>324</td>\n",
       "      <td>324</td>\n",
       "      <td>324</td>\n",
       "      <td>324</td>\n",
       "      <td>324</td>\n",
       "      <td>324</td>\n",
       "    </tr>\n",
       "    <tr>\n",
       "      <th>northwest</th>\n",
       "      <td>325</td>\n",
       "      <td>325</td>\n",
       "      <td>325</td>\n",
       "      <td>325</td>\n",
       "      <td>325</td>\n",
       "      <td>325</td>\n",
       "    </tr>\n",
       "    <tr>\n",
       "      <th>southeast</th>\n",
       "      <td>364</td>\n",
       "      <td>364</td>\n",
       "      <td>364</td>\n",
       "      <td>364</td>\n",
       "      <td>364</td>\n",
       "      <td>364</td>\n",
       "    </tr>\n",
       "    <tr>\n",
       "      <th>southwest</th>\n",
       "      <td>325</td>\n",
       "      <td>325</td>\n",
       "      <td>325</td>\n",
       "      <td>325</td>\n",
       "      <td>325</td>\n",
       "      <td>325</td>\n",
       "    </tr>\n",
       "  </tbody>\n",
       "</table>\n",
       "</div>"
      ],
      "text/plain": [
       "           age  sex  bmi  children  smoker  charges\n",
       "region                                             \n",
       "northeast  324  324  324       324     324      324\n",
       "northwest  325  325  325       325     325      325\n",
       "southeast  364  364  364       364     364      364\n",
       "southwest  325  325  325       325     325      325"
      ]
     },
     "execution_count": 14,
     "metadata": {},
     "output_type": "execute_result"
    }
   ],
   "source": [
    "data_asuransi.groupby('region').count()"
   ]
  },
  {
   "cell_type": "markdown",
   "metadata": {},
   "source": [
    ">Distribusi tagihan northeast"
   ]
  },
  {
   "cell_type": "code",
   "execution_count": 15,
   "metadata": {},
   "outputs": [
    {
     "name": "stderr",
     "output_type": "stream",
     "text": [
      "c:\\Users\\Dwi\\anaconda3\\lib\\site-packages\\seaborn\\distributions.py:2619: FutureWarning: `distplot` is a deprecated function and will be removed in a future version. Please adapt your code to use either `displot` (a figure-level function with similar flexibility) or `histplot` (an axes-level function for histograms).\n",
      "  warnings.warn(msg, FutureWarning)\n"
     ]
    },
    {
     "data": {
      "text/plain": [
       "<function matplotlib.pyplot.show(close=None, block=None)>"
      ]
     },
     "execution_count": 15,
     "metadata": {},
     "output_type": "execute_result"
    },
    {
     "data": {
      "image/png": "[encoded data removed]",
      "text/plain": [
       "<Figure size 432x288 with 1 Axes>"
      ]
     },
     "metadata": {
      "needs_background": "light"
     },
     "output_type": "display_data"
    }
   ],
   "source": [
    "# filter data untuk region northeast only\n",
    "df_region_northeast = data_asuransi[data_asuransi.region=='northeast']\n",
    "\n",
    "# plotting a histogram\n",
    "sns.distplot(df_region_northeast[\"charges\"], hist=True, kde=True, \n",
    "             bins=int(10), color = 'darkblue', \n",
    "             hist_kws={'edgecolor':'black'},\n",
    "             kde_kws={'linewidth': 1})\n",
    "\n",
    "# Adding extra features   \n",
    "plt.xlabel(\"Charges\")\n",
    "plt.ylabel(\"Density\")\n",
    "plt.title('northeast charges distribution')\n",
    "\n",
    "plt.show"
   ]
  },
  {
   "cell_type": "markdown",
   "metadata": {},
   "source": [
    ">Distribusi tagihan nortweast"
   ]
  },
  {
   "cell_type": "code",
   "execution_count": 16,
   "metadata": {},
   "outputs": [
    {
     "name": "stderr",
     "output_type": "stream",
     "text": [
      "c:\\Users\\Dwi\\anaconda3\\lib\\site-packages\\seaborn\\distributions.py:2619: FutureWarning: `distplot` is a deprecated function and will be removed in a future version. Please adapt your code to use either `displot` (a figure-level function with similar flexibility) or `histplot` (an axes-level function for histograms).\n",
      "  warnings.warn(msg, FutureWarning)\n"
     ]
    },
    {
     "data": {
      "text/plain": [
       "<function matplotlib.pyplot.show(close=None, block=None)>"
      ]
     },
     "execution_count": 16,
     "metadata": {},
     "output_type": "execute_result"
    },
    {
     "data": {
      "image/png": "[encoded data removed]",
      "text/plain": [
       "<Figure size 432x288 with 1 Axes>"
      ]
     },
     "metadata": {
      "needs_background": "light"
     },
     "output_type": "display_data"
    }
   ],
   "source": [
    "# filter data untuk region northeast only\n",
    "df_region_northeast = data_asuransi[data_asuransi.region=='northwest']\n",
    "\n",
    "# plotting a histogram\n",
    "sns.distplot(df_region_northeast[\"charges\"], hist=True, kde=True, \n",
    "             bins=int(10), color = 'darkblue', \n",
    "             hist_kws={'edgecolor':'black'},\n",
    "             kde_kws={'linewidth': 1})\n",
    "\n",
    "# Adding extra features   \n",
    "plt.xlabel(\"Charges\")\n",
    "plt.ylabel(\"Density\")\n",
    "plt.title('northwest charges distribution')\n",
    "\n",
    "plt.show"
   ]
  },
  {
   "cell_type": "markdown",
   "metadata": {},
   "source": [
    ">Distribusi tagihan southeast"
   ]
  },
  {
   "cell_type": "code",
   "execution_count": 17,
   "metadata": {},
   "outputs": [
    {
     "name": "stderr",
     "output_type": "stream",
     "text": [
      "c:\\Users\\Dwi\\anaconda3\\lib\\site-packages\\seaborn\\distributions.py:2619: FutureWarning: `distplot` is a deprecated function and will be removed in a future version. Please adapt your code to use either `displot` (a figure-level function with similar flexibility) or `histplot` (an axes-level function for histograms).\n",
      "  warnings.warn(msg, FutureWarning)\n"
     ]
    },
    {
     "data": {
      "text/plain": [
       "<function matplotlib.pyplot.show(close=None, block=None)>"
      ]
     },
     "execution_count": 17,
     "metadata": {},
     "output_type": "execute_result"
    },
    {
     "data": {
      "image/png": "[encoded data removed]",
      "text/plain": [
       "<Figure size 432x288 with 1 Axes>"
      ]
     },
     "metadata": {
      "needs_background": "light"
     },
     "output_type": "display_data"
    }
   ],
   "source": [
    "# filter data untuk region northeast only\n",
    "df_region_northeast = data_asuransi[data_asuransi.region=='southeast']\n",
    "\n",
    "# plotting a histogram\n",
    "sns.distplot(df_region_northeast[\"charges\"], hist=True, kde=True, \n",
    "             bins=int(10), color = 'darkblue', \n",
    "             hist_kws={'edgecolor':'black'},\n",
    "             kde_kws={'linewidth': 1})\n",
    "\n",
    "# Adding extra features   \n",
    "plt.xlabel(\"Charges\")\n",
    "plt.ylabel(\"Density\")\n",
    "plt.title('southeast charges distribution')\n",
    "\n",
    "plt.show"
   ]
  },
  {
   "cell_type": "markdown",
   "metadata": {},
   "source": [
    ">Distribusi tagihan Southwest"
   ]
  },
  {
   "cell_type": "code",
   "execution_count": 18,
   "metadata": {},
   "outputs": [
    {
     "name": "stderr",
     "output_type": "stream",
     "text": [
      "c:\\Users\\Dwi\\anaconda3\\lib\\site-packages\\seaborn\\distributions.py:2619: FutureWarning: `distplot` is a deprecated function and will be removed in a future version. Please adapt your code to use either `displot` (a figure-level function with similar flexibility) or `histplot` (an axes-level function for histograms).\n",
      "  warnings.warn(msg, FutureWarning)\n"
     ]
    },
    {
     "data": {
      "text/plain": [
       "<function matplotlib.pyplot.show(close=None, block=None)>"
      ]
     },
     "execution_count": 18,
     "metadata": {},
     "output_type": "execute_result"
    },
    {
     "data": {
      "image/png": "[encoded data removed]",
      "text/plain": [
       "<Figure size 432x288 with 1 Axes>"
      ]
     },
     "metadata": {
      "needs_background": "light"
     },
     "output_type": "display_data"
    }
   ],
   "source": [
    "# filter data untuk region northeast only\n",
    "df_region_northeast = data_asuransi[data_asuransi.region=='southwest']\n",
    "\n",
    "# plotting a histogram\n",
    "sns.distplot(df_region_northeast[\"charges\"], hist=True, kde=True, \n",
    "             bins=int(10), color = 'darkblue', \n",
    "             hist_kws={'edgecolor':'black'},\n",
    "             kde_kws={'linewidth': 1})\n",
    "\n",
    "# Adding extra features   \n",
    "plt.xlabel(\"Charges\")\n",
    "plt.ylabel(\"Density\")\n",
    "plt.title('southwest charges distribution')\n",
    "\n",
    "plt.show"
   ]
  },
  {
   "cell_type": "markdown",
   "metadata": {},
   "source": [
    "### 3. Mana yang lebih tinggi proporsi perokok atau non perokok?"
   ]
  },
  {
   "cell_type": "code",
   "execution_count": 19,
   "metadata": {},
   "outputs": [
    {
     "name": "stdout",
     "output_type": "stream",
     "text": [
      "-orang yang merokok adalah sebanyak 274 orang\n",
      "-orang yang tidak merokok adalah sebanyak 1064 orang\n",
      "jadi proporsi orang yang tidak merokok lebih tinggi dari yang merokok\n"
     ]
    }
   ],
   "source": [
    "#Fillter data to sex and charges only\n",
    "df_perokok = data_asuransi[['smoker']]\n",
    "\n",
    "#FILTER Perokok\n",
    "df_yang_merokok = df_perokok['smoker'] == 'yes'\n",
    "event_perokok = df_perokok[df_yang_merokok]\n",
    "print(f\"-orang yang merokok adalah sebanyak {len(event_perokok)} orang\")\n",
    "\n",
    "#FILTER tidak Perokok\n",
    "df_yang_tidak_merokok = df_perokok['smoker'] == 'no'\n",
    "event_tidak_perokok = df_perokok[df_yang_tidak_merokok]\n",
    "print(f\"-orang yang tidak merokok adalah sebanyak {len(event_tidak_perokok)} orang\")\n",
    "print('jadi proporsi orang yang tidak merokok lebih tinggi dari yang merokok')"
   ]
  },
  {
   "cell_type": "markdown",
   "metadata": {},
   "source": [
    "### 4. Berapa peluang seseorang tersebut adalah laki-laki diketahui dia adalah perokok?"
   ]
  },
  {
   "cell_type": "code",
   "execution_count": 202,
   "metadata": {},
   "outputs": [
    {
     "name": "stdout",
     "output_type": "stream",
     "text": [
      "sex     smoker\n",
      "female  no        547\n",
      "        yes       115\n",
      "male    no        517\n",
      "        yes       159\n",
      "dtype: int64\n",
      "-Probability orang tersebut adalah laki-laki dan dia adalah perokok 0.12\n"
     ]
    }
   ],
   "source": [
    "#Fillter data to sex and charges only\n",
    "df_smoker_gender = data_asuransi[['smoker', 'sex']]\n",
    "print(df_smoker_gender.groupby(['sex','smoker']).value_counts().sort_index())\n",
    "\n",
    "# perhitungan probability\n",
    "P_smoker_male = 159 \n",
    "sample_space_perokok = 517 + 159 + 115 + 547\n",
    "\n",
    "# conditionla probability\n",
    "CP_male_smoker = P_smoker_male/sample_space_perokok\n",
    "print(f\"-Probability orang tersebut adalah laki-laki dan dia adalah perokok {CP_male_smoker:.2f}\")"
   ]
  },
  {
   "cell_type": "markdown",
   "metadata": {},
   "source": [
    "### 5. apakah setiap region memiliki proporsi data orang yang sama?"
   ]
  },
  {
   "cell_type": "code",
   "execution_count": 21,
   "metadata": {},
   "outputs": [
    {
     "data": {
      "text/html": [
       "<div>\n",
       "<style scoped>\n",
       "    .dataframe tbody tr th:only-of-type {\n",
       "        vertical-align: middle;\n",
       "    }\n",
       "\n",
       "    .dataframe tbody tr th {\n",
       "        vertical-align: top;\n",
       "    }\n",
       "\n",
       "    .dataframe thead th {\n",
       "        text-align: right;\n",
       "    }\n",
       "</style>\n",
       "<table border=\"1\" class=\"dataframe\">\n",
       "  <thead>\n",
       "    <tr style=\"text-align: right;\">\n",
       "      <th></th>\n",
       "      <th>charges</th>\n",
       "    </tr>\n",
       "    <tr>\n",
       "      <th>region</th>\n",
       "      <th></th>\n",
       "    </tr>\n",
       "  </thead>\n",
       "  <tbody>\n",
       "    <tr>\n",
       "      <th>northeast</th>\n",
       "      <td>324</td>\n",
       "    </tr>\n",
       "    <tr>\n",
       "      <th>northwest</th>\n",
       "      <td>325</td>\n",
       "    </tr>\n",
       "    <tr>\n",
       "      <th>southeast</th>\n",
       "      <td>364</td>\n",
       "    </tr>\n",
       "    <tr>\n",
       "      <th>southwest</th>\n",
       "      <td>325</td>\n",
       "    </tr>\n",
       "  </tbody>\n",
       "</table>\n",
       "</div>"
      ],
      "text/plain": [
       "           charges\n",
       "region            \n",
       "northeast      324\n",
       "northwest      325\n",
       "southeast      364\n",
       "southwest      325"
      ]
     },
     "execution_count": 21,
     "metadata": {},
     "output_type": "execute_result"
    }
   ],
   "source": [
    "#Fillter data to sex and charges only\n",
    "df_charges_region = data_asuransi[['charges', 'region']]\n",
    "df_charges_region.groupby('region').count()\n"
   ]
  },
  {
   "cell_type": "markdown",
   "metadata": {},
   "source": [
    "dilihat dari data set yang ada bahwa setiap region tidak memiliki proporsi data yang sama dimana terlihat pada region northeast terdapat 324 data, northwest terdapat 325, southwest 364 dan southwest 325"
   ]
  },
  {
   "cell_type": "markdown",
   "metadata": {},
   "source": [
    "---\n",
    "## Analisa Variable Kontinu (CDF)"
   ]
  },
  {
   "cell_type": "markdown",
   "metadata": {},
   "source": [
    "#### Analisa Data set"
   ]
  },
  {
   "cell_type": "code",
   "execution_count": 22,
   "metadata": {},
   "outputs": [
    {
     "data": {
      "text/html": [
       "<div>\n",
       "<style scoped>\n",
       "    .dataframe tbody tr th:only-of-type {\n",
       "        vertical-align: middle;\n",
       "    }\n",
       "\n",
       "    .dataframe tbody tr th {\n",
       "        vertical-align: top;\n",
       "    }\n",
       "\n",
       "    .dataframe thead th {\n",
       "        text-align: right;\n",
       "    }\n",
       "</style>\n",
       "<table border=\"1\" class=\"dataframe\">\n",
       "  <thead>\n",
       "    <tr style=\"text-align: right;\">\n",
       "      <th></th>\n",
       "      <th>smoker</th>\n",
       "      <th>bmi</th>\n",
       "      <th>charges</th>\n",
       "    </tr>\n",
       "  </thead>\n",
       "  <tbody>\n",
       "    <tr>\n",
       "      <th>0</th>\n",
       "      <td>yes</td>\n",
       "      <td>27.900</td>\n",
       "      <td>16884.92400</td>\n",
       "    </tr>\n",
       "    <tr>\n",
       "      <th>1</th>\n",
       "      <td>no</td>\n",
       "      <td>33.770</td>\n",
       "      <td>1725.55230</td>\n",
       "    </tr>\n",
       "    <tr>\n",
       "      <th>2</th>\n",
       "      <td>no</td>\n",
       "      <td>33.000</td>\n",
       "      <td>4449.46200</td>\n",
       "    </tr>\n",
       "    <tr>\n",
       "      <th>3</th>\n",
       "      <td>no</td>\n",
       "      <td>22.705</td>\n",
       "      <td>21984.47061</td>\n",
       "    </tr>\n",
       "    <tr>\n",
       "      <th>4</th>\n",
       "      <td>no</td>\n",
       "      <td>28.880</td>\n",
       "      <td>3866.85520</td>\n",
       "    </tr>\n",
       "    <tr>\n",
       "      <th>...</th>\n",
       "      <td>...</td>\n",
       "      <td>...</td>\n",
       "      <td>...</td>\n",
       "    </tr>\n",
       "    <tr>\n",
       "      <th>1333</th>\n",
       "      <td>no</td>\n",
       "      <td>30.970</td>\n",
       "      <td>10600.54830</td>\n",
       "    </tr>\n",
       "    <tr>\n",
       "      <th>1334</th>\n",
       "      <td>no</td>\n",
       "      <td>31.920</td>\n",
       "      <td>2205.98080</td>\n",
       "    </tr>\n",
       "    <tr>\n",
       "      <th>1335</th>\n",
       "      <td>no</td>\n",
       "      <td>36.850</td>\n",
       "      <td>1629.83350</td>\n",
       "    </tr>\n",
       "    <tr>\n",
       "      <th>1336</th>\n",
       "      <td>no</td>\n",
       "      <td>25.800</td>\n",
       "      <td>2007.94500</td>\n",
       "    </tr>\n",
       "    <tr>\n",
       "      <th>1337</th>\n",
       "      <td>yes</td>\n",
       "      <td>29.070</td>\n",
       "      <td>29141.36030</td>\n",
       "    </tr>\n",
       "  </tbody>\n",
       "</table>\n",
       "<p>1338 rows × 3 columns</p>\n",
       "</div>"
      ],
      "text/plain": [
       "     smoker     bmi      charges\n",
       "0       yes  27.900  16884.92400\n",
       "1        no  33.770   1725.55230\n",
       "2        no  33.000   4449.46200\n",
       "3        no  22.705  21984.47061\n",
       "4        no  28.880   3866.85520\n",
       "...     ...     ...          ...\n",
       "1333     no  30.970  10600.54830\n",
       "1334     no  31.920   2205.98080\n",
       "1335     no  36.850   1629.83350\n",
       "1336     no  25.800   2007.94500\n",
       "1337    yes  29.070  29141.36030\n",
       "\n",
       "[1338 rows x 3 columns]"
      ]
     },
     "execution_count": 22,
     "metadata": {},
     "output_type": "execute_result"
    }
   ],
   "source": [
    "#Fillter data to bmi, smoker and charges\n",
    "df_bmi_smoker_charges = data_asuransi[['smoker', 'bmi','charges']]\n",
    "df_bmi_smoker_charges\n"
   ]
  },
  {
   "cell_type": "markdown",
   "metadata": {},
   "source": [
    "#### 1. Mencari peluang besar tagihan berdasarkan BMI"
   ]
  },
  {
   "cell_type": "code",
   "execution_count": 210,
   "metadata": {},
   "outputs": [
    {
     "name": "stdout",
     "output_type": "stream",
     "text": [
      "-jadi peluang seseorang perokok dengan bmi diatas 25 akan memiliki tagihan diatas 16.7k keatas adalah 0.86\n"
     ]
    }
   ],
   "source": [
    "#filter bmi\n",
    "df_bmi_kurang_20 = df_bmi_smoker_charges['charges']>16700\n",
    "event_bmi_kurang_20 = df_bmi_smoker_charges[df_bmi_kurang_20]\n",
    "\n",
    "#hitung CDF\n",
    "mean1 = event_bmi_kurang_20['bmi'].mean()\n",
    "st1 = event_bmi_kurang_20['bmi'].std()\n",
    "x = 25\n",
    "CDF1 = 1-stats.norm.cdf(x, loc=mean1, scale=st1)\n",
    "print(f\"-jadi peluang seseorang perokok dengan bmi diatas 25 akan memiliki tagihan diatas 16.7k keatas adalah {CDF1:.2f}\")"
   ]
  },
  {
   "cell_type": "markdown",
   "metadata": {},
   "source": [
    "#### 2. Mencari peluang seseorang acak tagihan kesehatan diatas 16,7K diketahui dia adalah perokok"
   ]
  },
  {
   "cell_type": "code",
   "execution_count": 24,
   "metadata": {},
   "outputs": [
    {
     "name": "stdout",
     "output_type": "stream",
     "text": [
      "-jadi peluang seseorang perokok yang memiliki tagihan diatas 16,7k adalah 0.91\n"
     ]
    }
   ],
   "source": [
    "#FILTER Perokok\n",
    "df_yang_merokok = df_bmi_smoker_charges['smoker'] == 'yes'\n",
    "event_perokok_1 = df_bmi_smoker_charges[df_yang_merokok]\n",
    "\n",
    "#hitung CDF\n",
    "mean_1 = event_perokok_1['charges'].mean()\n",
    "st_1 = event_perokok_1['charges'].std()\n",
    "x = 16700\n",
    "CDF_1 = 1-stats.norm.cdf(x, loc=mean_1, scale=st_1)\n",
    "print(f\"-jadi peluang seseorang perokok yang memiliki tagihan diatas 16,7k adalah {CDF_1:.2f}\")"
   ]
  },
  {
   "cell_type": "markdown",
   "metadata": {},
   "source": [
    "#### 3. Mencari kemungkian terjadi, seorang perokok dengan BMI diatas 25 akan mendapatkan tagihan kesehatan di atas 16,700"
   ]
  },
  {
   "cell_type": "code",
   "execution_count": 25,
   "metadata": {},
   "outputs": [
    {
     "name": "stdout",
     "output_type": "stream",
     "text": [
      "-jadi peluang seseorang perokok dengan bmi diatas 25 akan memiliki tagihan diatas 16,7k adalah 0.96\n"
     ]
    }
   ],
   "source": [
    "#FILTER Perokok\n",
    "df_yang_merokok = df_bmi_smoker_charges['smoker'] == 'yes'\n",
    "event_perokok_1 = df_bmi_smoker_charges[df_yang_merokok]\n",
    "\n",
    "#filter bmi\n",
    "df_bmi_lebih_25 = event_perokok_1['bmi']>25\n",
    "event_bmi_lebih_25 = event_perokok_1[df_bmi_lebih_25]\n",
    "\n",
    "#hitung CDF\n",
    "mean_2 = event_bmi_lebih_25['charges'].mean()\n",
    "st_2 = event_bmi_lebih_25['charges'].std()\n",
    "x = 16700\n",
    "CDF_2 = 1-stats.norm.cdf(x, loc=mean_2, scale=st_2)\n",
    "print(f\"-jadi peluang seseorang perokok dengan bmi diatas 25 akan memiliki tagihan diatas 16,7k adalah {CDF_2:.2f}\")"
   ]
  },
  {
   "cell_type": "markdown",
   "metadata": {},
   "source": [
    "\n",
    "### 4. Mana yang lebih mungkin terjadi:\n",
    "\n",
    "    - seseorang dengan BMI diatas 25 mendapatkan tagihan kesehatan diatas 16,7 k atau\n",
    "    - seseorang dengan BMi dibawah 25 mendapatkan tagihan kesehatan diatas 16,7 k"
   ]
  },
  {
   "cell_type": "markdown",
   "metadata": {},
   "source": [
    ">analisa seorang dengan bmi diatas 25 mendapatkan tagihan kesehatan diatas 16,7k"
   ]
  },
  {
   "cell_type": "code",
   "execution_count": 26,
   "metadata": {},
   "outputs": [],
   "source": [
    "#filter bmi\n",
    "df_bmi_lebih_25_umum = df_bmi_smoker_charges['bmi']>25\n",
    "event_bmi_lebih_25_umum = df_bmi_smoker_charges[df_bmi_lebih_25_umum]"
   ]
  },
  {
   "cell_type": "code",
   "execution_count": 27,
   "metadata": {},
   "outputs": [
    {
     "name": "stdout",
     "output_type": "stream",
     "text": [
      "-jadi peluang seseorang dengan bmi diatas 25 akan memiliki tagihan diatas 16,7k adalah 0.42\n"
     ]
    }
   ],
   "source": [
    "#hitung CDF\n",
    "mean_3 = event_bmi_lebih_25_umum['charges'].mean()\n",
    "st_3 = event_bmi_lebih_25_umum['charges'].std()\n",
    "x = 16700\n",
    "CDF_3 = 1-stats.norm.cdf(x, loc=mean_3, scale=st_3)\n",
    "print(f\"-jadi peluang seseorang dengan bmi diatas 25 akan memiliki tagihan diatas 16,7k adalah {CDF_3:.2f}\")"
   ]
  },
  {
   "cell_type": "markdown",
   "metadata": {},
   "source": [
    ">analisa seorang dengan bmi dibawah 25 mendapatkan tagihan kesehatan diatas 16,7k"
   ]
  },
  {
   "cell_type": "code",
   "execution_count": 28,
   "metadata": {},
   "outputs": [],
   "source": [
    "#filter bmi\n",
    "df_bmi_kurang_25_umum = df_bmi_smoker_charges['bmi']<25\n",
    "event_bmi_kurang_25_umum = df_bmi_smoker_charges[df_bmi_kurang_25_umum]\n"
   ]
  },
  {
   "cell_type": "code",
   "execution_count": 29,
   "metadata": {},
   "outputs": [
    {
     "name": "stdout",
     "output_type": "stream",
     "text": [
      "-jadi peluang seseorang dengan bmi diatas 25 akan memiliki tagihan diatas 16,7k adalah 0.20\n"
     ]
    }
   ],
   "source": [
    "#hitung CDF\n",
    "mean_4 = event_bmi_kurang_25_umum['charges'].mean()\n",
    "st_4 = event_bmi_kurang_25_umum['charges'].std()\n",
    "x = 16700\n",
    "CDF_4 = 1-stats.norm.cdf(x, loc=mean_4, scale=st_4)\n",
    "print(f\"-jadi peluang seseorang dengan bmi diatas 25 akan memiliki tagihan diatas 16,7k adalah {CDF_4:.2f}\")"
   ]
  },
  {
   "cell_type": "markdown",
   "metadata": {},
   "source": [
    ">Dari analisa yang sudah dilakukan didapatkan kesimpulan seorang yang bmi diatas 25 memiliki peluang lebih besar mendapatkan tagihan diatas 16.7 K"
   ]
  },
  {
   "cell_type": "markdown",
   "metadata": {},
   "source": [
    "### 5. Mana yang lebih mungkin terjadi: \n",
    "    - seseorang perokok dengan BMI diatas 25 mendapatkan tagihan kesehatan diatas 16,7 K atau\n",
    "    - seseorang non perokok dengan BMI diatas 25 mendapatkan tagihan kesehatan diatas 16,7 k"
   ]
  },
  {
   "cell_type": "markdown",
   "metadata": {},
   "source": [
    ">seseorang perokok dengan BMI diatas 25 mendapatkan tagihan kesehatan diatas 16,7 K"
   ]
  },
  {
   "cell_type": "code",
   "execution_count": 30,
   "metadata": {},
   "outputs": [
    {
     "name": "stdout",
     "output_type": "stream",
     "text": [
      "-peluang seseorang perokok dengan bmi diatas 25 akan memiliki tagihan diatas 16,7k adalah 0.96\n"
     ]
    }
   ],
   "source": [
    "print(f\"-peluang seseorang perokok dengan bmi diatas 25 akan memiliki tagihan diatas 16,7k adalah {CDF_2:.2f}\")"
   ]
  },
  {
   "cell_type": "markdown",
   "metadata": {},
   "source": [
    ">seseorang non perokok dengan BMI diatas 25 mendapatkan tagihan kesehatan diatas 16,7 k"
   ]
  },
  {
   "cell_type": "code",
   "execution_count": 31,
   "metadata": {},
   "outputs": [
    {
     "name": "stdout",
     "output_type": "stream",
     "text": [
      "-jadi peluang seseorang perokok dengan bmi diatas 25 akan memiliki tagihan diatas 16,7k adalah 0.09\n"
     ]
    }
   ],
   "source": [
    "#FILTER Perokok\n",
    "df_yang_non_merokok = df_bmi_smoker_charges['smoker'] == 'no'\n",
    "event_non_perokok_1 = df_bmi_smoker_charges[df_yang_non_merokok]\n",
    "\n",
    "#filter bmi\n",
    "df_bmi_lebih_25 = event_non_perokok_1['bmi']>25\n",
    "event_bmi_lebih_25 = event_non_perokok_1[df_bmi_lebih_25]\n",
    "\n",
    "#hitung CDF\n",
    "mean_5 = event_bmi_lebih_25['charges'].mean()\n",
    "st_5 = event_bmi_lebih_25['charges'].std()\n",
    "x = 16700\n",
    "CDF_5 = 1-stats.norm.cdf(x, loc=mean_5, scale=st_5)\n",
    "print(f\"-jadi peluang seseorang perokok dengan bmi diatas 25 akan memiliki tagihan diatas 16,7k adalah {CDF_5:.2f}\")"
   ]
  },
  {
   "cell_type": "markdown",
   "metadata": {},
   "source": [
    ">Dari analisa yang sudah dilakukan didapatkan kesimpulan seorang perokok yang bmi diatas 25 memiliki peluang lebih besar mendapatkan tagihan diatas 16.7 K"
   ]
  },
  {
   "cell_type": "markdown",
   "metadata": {},
   "source": [
    "---\n",
    "## Analisa Korelasi Variabel"
   ]
  },
  {
   "cell_type": "markdown",
   "metadata": {},
   "source": [
    ">analisa yang dilakukan akan mencari nilai korelasi antara variable menggunakan pearson correlation dimana range hasilnya yaitu -1 s/d 1 dimana nilai 1 menyatakan korelasi yang kuat dan 0 meyatakan tidak memiliki korelasi sama sekali"
   ]
  },
  {
   "cell_type": "code",
   "execution_count": 32,
   "metadata": {},
   "outputs": [
    {
     "data": {
      "text/plain": [
       "Index(['age', 'sex', 'bmi', 'children', 'smoker', 'region', 'charges'], dtype='object')"
      ]
     },
     "execution_count": 32,
     "metadata": {},
     "output_type": "execute_result"
    }
   ],
   "source": [
    "data_asuransi.columns"
   ]
  },
  {
   "cell_type": "markdown",
   "metadata": {},
   "source": [
    ">tabel korelasi antara variabel dalam data"
   ]
  },
  {
   "cell_type": "code",
   "execution_count": 33,
   "metadata": {},
   "outputs": [
    {
     "data": {
      "text/html": [
       "<div>\n",
       "<style scoped>\n",
       "    .dataframe tbody tr th:only-of-type {\n",
       "        vertical-align: middle;\n",
       "    }\n",
       "\n",
       "    .dataframe tbody tr th {\n",
       "        vertical-align: top;\n",
       "    }\n",
       "\n",
       "    .dataframe thead th {\n",
       "        text-align: right;\n",
       "    }\n",
       "</style>\n",
       "<table border=\"1\" class=\"dataframe\">\n",
       "  <thead>\n",
       "    <tr style=\"text-align: right;\">\n",
       "      <th></th>\n",
       "      <th>age</th>\n",
       "      <th>bmi</th>\n",
       "      <th>children</th>\n",
       "      <th>charges</th>\n",
       "    </tr>\n",
       "  </thead>\n",
       "  <tbody>\n",
       "    <tr>\n",
       "      <th>age</th>\n",
       "      <td>1.000000</td>\n",
       "      <td>0.109272</td>\n",
       "      <td>0.042469</td>\n",
       "      <td>0.299008</td>\n",
       "    </tr>\n",
       "    <tr>\n",
       "      <th>bmi</th>\n",
       "      <td>0.109272</td>\n",
       "      <td>1.000000</td>\n",
       "      <td>0.012759</td>\n",
       "      <td>0.198341</td>\n",
       "    </tr>\n",
       "    <tr>\n",
       "      <th>children</th>\n",
       "      <td>0.042469</td>\n",
       "      <td>0.012759</td>\n",
       "      <td>1.000000</td>\n",
       "      <td>0.067998</td>\n",
       "    </tr>\n",
       "    <tr>\n",
       "      <th>charges</th>\n",
       "      <td>0.299008</td>\n",
       "      <td>0.198341</td>\n",
       "      <td>0.067998</td>\n",
       "      <td>1.000000</td>\n",
       "    </tr>\n",
       "  </tbody>\n",
       "</table>\n",
       "</div>"
      ],
      "text/plain": [
       "               age       bmi  children   charges\n",
       "age       1.000000  0.109272  0.042469  0.299008\n",
       "bmi       0.109272  1.000000  0.012759  0.198341\n",
       "children  0.042469  0.012759  1.000000  0.067998\n",
       "charges   0.299008  0.198341  0.067998  1.000000"
      ]
     },
     "execution_count": 33,
     "metadata": {},
     "output_type": "execute_result"
    }
   ],
   "source": [
    "data_asuransi.corr()"
   ]
  },
  {
   "cell_type": "markdown",
   "metadata": {},
   "source": [
    ">Heatmap corelasi antara variabel"
   ]
  },
  {
   "cell_type": "code",
   "execution_count": 34,
   "metadata": {},
   "outputs": [
    {
     "data": {
      "text/plain": [
       "<AxesSubplot:>"
      ]
     },
     "execution_count": 34,
     "metadata": {},
     "output_type": "execute_result"
    },
    {
     "data": {
      "image/png": "[encoded data removed]",
      "text/plain": [
       "<Figure size 288x288 with 2 Axes>"
      ]
     },
     "metadata": {
      "needs_background": "light"
     },
     "output_type": "display_data"
    }
   ],
   "source": [
    "plt.figure(figsize=(4,4))\n",
    "sns.heatmap(data_asuransi.corr(), annot=True,)"
   ]
  },
  {
   "cell_type": "markdown",
   "metadata": {},
   "source": [
    ">dilihat dari analisa heatmap yang sudah dilkakukan bahwa korelasi nilai tagihan pelanggan berkoleasi dengan umur pelanggan dan berkolerasi paling lemah dengan jumlah anak per orangnya "
   ]
  },
  {
   "cell_type": "markdown",
   "metadata": {},
   "source": [
    "---\n",
    "## Pengujian Hipotesis"
   ]
  },
  {
   "cell_type": "markdown",
   "metadata": {},
   "source": [
    "#### 1. Tagihan kesehatan perokok lebih tinggi daripada kesehatan non perokok"
   ]
  },
  {
   "cell_type": "markdown",
   "metadata": {},
   "source": [
    "1.1 pemfiteran data"
   ]
  },
  {
   "cell_type": "code",
   "execution_count": 167,
   "metadata": {},
   "outputs": [],
   "source": [
    "#Fillter data to bmi and smoker only\n",
    "df_bmi_carges_01 = data_asuransi[['charges', 'smoker']]\n",
    "\n",
    "#Filter data yang merokok\n",
    "df_jumlah_smoker_01 = df_bmi_carges_01[\"smoker\"] == 'yes'\n",
    "event_Perokok_100 = df_bmi_carges_01[df_jumlah_smoker_01].sample(100)\n",
    "\n",
    "#Filter data yang merokok\n",
    "df_jumlah_non_smoker_01 = df_bmi_carges_01[\"smoker\"] == 'no'\n",
    "event_non_Perokok_100 = df_bmi_carges_01[df_jumlah_non_smoker_01].sample(100)\n",
    "\n",
    "#Alpha yang digunakan \n",
    "alpha = 0.05"
   ]
  },
  {
   "cell_type": "markdown",
   "metadata": {},
   "source": [
    "Hipotesis\n",
    "Maka hipotesis yang akan kita uji adalah:\n",
    "$$H_0: \\mu_{perokok} = \\mu_{non perokok}$$\n",
    "$$H_1: \\mu_{perokok} > \\mu_{non perokok}$$"
   ]
  },
  {
   "cell_type": "markdown",
   "metadata": {},
   "source": [
    "1.2 Hitung statistik uji"
   ]
  },
  {
   "cell_type": "code",
   "execution_count": 168,
   "metadata": {},
   "outputs": [
    {
     "data": {
      "text/plain": [
       "(119079940.12485838, 42323506.65902997)"
      ]
     },
     "execution_count": 168,
     "metadata": {},
     "output_type": "execute_result"
    }
   ],
   "source": [
    "np.var(event_Perokok_100['charges']), np.var(event_non_Perokok_100['charges'])"
   ]
  },
  {
   "cell_type": "code",
   "execution_count": 169,
   "metadata": {},
   "outputs": [
    {
     "name": "stdout",
     "output_type": "stream",
     "text": [
      "Statistics = 18.13213, p-value = 0.00000\n"
     ]
    }
   ],
   "source": [
    "stat, p =ttest_ind(a = event_Perokok_100['charges'] , b = event_non_Perokok_100['charges'], equal_var=False, alternative='greater') \n",
    "\n",
    "# Interpretasi Hasil\n",
    "print('Statistics = %.5f, p-value = %.5f' % (stat, p)) "
   ]
  },
  {
   "cell_type": "markdown",
   "metadata": {},
   "source": [
    "1.3 Pengambilan keputusan"
   ]
  },
  {
   "cell_type": "code",
   "execution_count": 170,
   "metadata": {},
   "outputs": [
    {
     "name": "stdout",
     "output_type": "stream",
     "text": [
      "Two group means are different (Tolak H0)\n"
     ]
    }
   ],
   "source": [
    "alpha = 0.05\n",
    "# Pengambilan Keputusan\n",
    "if p > alpha:\n",
    "    print('Two group means are equal (Gagal tolak H0)') \n",
    "else:\n",
    "    print('Two group means are different (Tolak H0)')"
   ]
  },
  {
   "cell_type": "markdown",
   "metadata": {},
   "source": [
    ">Maka dapat disimpulkan bahwa Tagihan pelanggan yang merokok tidak sama atau lebih besar dari Tagihan pelanggan yang tidak merokok. Dari pengujian yang dilakukan kesimpulan yang diambil tagihan perokok dibawah dari tagihan \n",
    "pelanggan yang tidak merokok"
   ]
  },
  {
   "cell_type": "markdown",
   "metadata": {},
   "source": [
    "#### 2. Tagihan kesehatan dengan BMI diatas 25 lebih tinggi daripada tagihan kesehatan dengan BMI dibawah 25"
   ]
  },
  {
   "cell_type": "markdown",
   "metadata": {},
   "source": [
    "1.1 pemfiteran data"
   ]
  },
  {
   "cell_type": "code",
   "execution_count": 178,
   "metadata": {},
   "outputs": [],
   "source": [
    "#Fillter data to bmi and smoker only\n",
    "df_bmi_carges_01 = data_asuransi[['charges', 'bmi']]\n",
    "\n",
    "#Filter data yang merokok\n",
    "df_25_keatas_bmi = df_bmi_carges_01[\"bmi\"] > 25\n",
    "event_bmi_lebih_25_s_100 = df_bmi_carges_01[df_25_keatas_bmi].sample(100)\n",
    "\n",
    "\n",
    "#Filter data yang merokok\n",
    "df_25_dibawah_bmi = df_bmi_carges_01[\"bmi\"] < 25\n",
    "event_bmi_kurang_25_s_100 = df_bmi_carges_01[df_25_dibawah_bmi].sample(100)\n",
    "\n",
    "#Alpha yang digunakan \n",
    "alpha = 0.05"
   ]
  },
  {
   "cell_type": "markdown",
   "metadata": {},
   "source": [
    "Hipotesis\n",
    "Maka hipotesis yang akan kita uji adalah:\n",
    "$$H_0: \\mu_{bmi lebih 25} = \\mu_{bmi kurang 25}$$\n",
    "$$H_1: \\mu_{bmi lebih 25} > \\mu_{bmi kurang 25}$$"
   ]
  },
  {
   "cell_type": "markdown",
   "metadata": {},
   "source": [
    "1.2 Hitung statistik uji"
   ]
  },
  {
   "cell_type": "code",
   "execution_count": 179,
   "metadata": {},
   "outputs": [
    {
     "data": {
      "text/plain": [
       "(178269389.4650493, 68483056.91356586)"
      ]
     },
     "execution_count": 179,
     "metadata": {},
     "output_type": "execute_result"
    }
   ],
   "source": [
    "np.var(event_bmi_lebih_25_s_100['charges']), np.var(event_bmi_kurang_25_s_100['charges'])"
   ]
  },
  {
   "cell_type": "code",
   "execution_count": 180,
   "metadata": {},
   "outputs": [
    {
     "name": "stdout",
     "output_type": "stream",
     "text": [
      "Statistics = 1.87170, p-value = 0.03151\n"
     ]
    }
   ],
   "source": [
    "stat, p =ttest_ind(a = event_bmi_lebih_25_s_100['charges'] , b = event_bmi_kurang_25_s_100['charges'], equal_var=False, alternative='greater') \n",
    "\n",
    "# Interpretasi Hasil\n",
    "print('Statistics = %.5f, p-value = %.5f' % (stat, p)) "
   ]
  },
  {
   "cell_type": "markdown",
   "metadata": {},
   "source": [
    "1.3 Pengambilan keputusan"
   ]
  },
  {
   "cell_type": "code",
   "execution_count": 181,
   "metadata": {},
   "outputs": [
    {
     "name": "stdout",
     "output_type": "stream",
     "text": [
      "Two group means are different (Tolak H0)\n"
     ]
    }
   ],
   "source": [
    "alpha = 0.05\n",
    "# Pengambilan Keputusan\n",
    "if p > alpha:\n",
    "    print('Two group means are equal (Gagal tolak H0)') \n",
    "else:\n",
    "    print('Two group means are different (Tolak H0)')"
   ]
  },
  {
   "cell_type": "markdown",
   "metadata": {},
   "source": [
    ">Maka dapat disimpulkan bahwa Tagihan pelanggan yang memiliki bmi diatas 25 tidak sama atau lebih besar dari Tagihan pelanggan yang memiliki bmi dibawah 25. Dari pengujian yang dilakukan kesimpulan yang diambil adalah tagihan bmi diatas 25 dibawah dari tagihan pelanggan dengan bmi dibawah 25"
   ]
  },
  {
   "cell_type": "markdown",
   "metadata": {},
   "source": [
    "#### 3. Tagihan kesehatan laki-laki lebih besar dari perempuan"
   ]
  },
  {
   "cell_type": "markdown",
   "metadata": {},
   "source": [
    "1.1 pemfiteran data"
   ]
  },
  {
   "cell_type": "code",
   "execution_count": 191,
   "metadata": {},
   "outputs": [],
   "source": [
    "#Fillter data to bmi and smoker only\n",
    "df_bmi_carges_03 = data_asuransi[['charges', 'sex']]\n",
    "\n",
    "#Filter data yang merokok\n",
    "df_tagihan_pria = df_bmi_carges_03[\"sex\"] == 'male'\n",
    "event_tagiahan_pria = df_bmi_carges_03[df_tagihan_pria].sample(100)\n",
    "\n",
    "#Filter data yang merokok\n",
    "df_tagihan_wanita = df_bmi_carges_03[\"sex\"] == 'female'\n",
    "event_tagiahan_wanita = df_bmi_carges_03[df_tagihan_wanita].sample(100)\n",
    "\n",
    "#Alpha yang digunakan \n",
    "alpha = 0.05"
   ]
  },
  {
   "cell_type": "markdown",
   "metadata": {},
   "source": [
    "Hipotesis\n",
    "Maka hipotesis yang akan kita uji adalah:\n",
    "$$H_0: \\mu_{pria} = \\mu_{wanita}$$\n",
    "$$H_1: \\mu_{pria} > \\mu_{wanita}$$"
   ]
  },
  {
   "cell_type": "markdown",
   "metadata": {},
   "source": [
    "1.2 Hitung statistik uji"
   ]
  },
  {
   "cell_type": "code",
   "execution_count": 193,
   "metadata": {},
   "outputs": [
    {
     "data": {
      "text/plain": [
       "(206348772.97050112, 143491122.9894389)"
      ]
     },
     "execution_count": 193,
     "metadata": {},
     "output_type": "execute_result"
    }
   ],
   "source": [
    "np.var(event_tagiahan_pria['charges']), np.var(event_tagiahan_wanita['charges'])"
   ]
  },
  {
   "cell_type": "code",
   "execution_count": 194,
   "metadata": {},
   "outputs": [
    {
     "name": "stdout",
     "output_type": "stream",
     "text": [
      "Statistics = 1.65229, p-value = 0.05006\n"
     ]
    }
   ],
   "source": [
    "stat, p =ttest_ind(a = event_tagiahan_pria['charges'] , b = event_tagiahan_wanita['charges'], equal_var=False, alternative='greater') \n",
    "\n",
    "# Interpretasi Hasil\n",
    "print('Statistics = %.5f, p-value = %.5f' % (stat, p)) "
   ]
  },
  {
   "cell_type": "markdown",
   "metadata": {},
   "source": [
    "1.3 Pengambilan keputusan"
   ]
  },
  {
   "cell_type": "code",
   "execution_count": 196,
   "metadata": {},
   "outputs": [
    {
     "name": "stdout",
     "output_type": "stream",
     "text": [
      "Two group means are equal (Gagal tolak H0)\n"
     ]
    }
   ],
   "source": [
    "alpha = 0.05\n",
    "# Pengambilan Keputusan\n",
    "if p > alpha:\n",
    "    print('Two group means are equal (Gagal tolak H0)') \n",
    "else:\n",
    "    print('Two group means are different (Tolak H0)')"
   ]
  },
  {
   "cell_type": "markdown",
   "metadata": {},
   "source": [
    ">Maka dapat disimpulkan bahwa Tagihan pelanggan pria lebih besar dari Tagihan pelanggan wanita"
   ]
  }
 ],
 "metadata": {
  "kernelspec": {
   "display_name": "Python 3.9.12 ('base')",
   "language": "python",
   "name": "python3"
  },
  "language_info": {
   "codemirror_mode": {
    "name": "ipython",
    "version": 3
   },
   "file_extension": ".py",
   "mimetype": "text/x-python",
   "name": "python",
   "nbconvert_exporter": "python",
   "pygments_lexer": "ipython3",
   "version": "3.9.12"
  },
  "orig_nbformat": 4,
  "vscode": {
   "interpreter": {
    "hash": "e136cc0e967b313c0cf5dec040d1f464de091cc2972c8f03ef25a39ba0a5adfe"
   }
  }
 },
 "nbformat": 4,
 "nbformat_minor": 2
}
